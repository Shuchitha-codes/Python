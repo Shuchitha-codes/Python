{
  "nbformat": 4,
  "nbformat_minor": 0,
  "metadata": {
    "colab": {
      "provenance": [],
      "toc_visible": true
    },
    "kernelspec": {
      "name": "python3",
      "display_name": "Python 3"
    },
    "language_info": {
      "name": "python"
    }
  },
  "cells": [
    {
      "cell_type": "markdown",
      "source": [
        "**Print() statement (SEFF)**\n",
        "\n",
        "\n",
        "**print(object(s), sep=separator, end=end, file=file, flush=flush)**\n",
        "\n",
        "object(s): This represents the values you want to print. These can be strings, numbers, or other objects\n",
        "\n",
        "The sep parameter specifies the separator to use between multiple objects.\n",
        "\n",
        "The end parameter determines what is printed at the end of the output.\n",
        "Default is a newline character ('\\n')\n",
        "\n",
        "The file parameter specifies where to send the output. By default, it writes to sys.stdout (the console).\n",
        "\n",
        "The flush parameter, when set to True, forces the output to be written to the file/stream immediately.\n",
        "By default, it is False"
      ],
      "metadata": {
        "id": "QYkzeZo-AZHB"
      }
    },
    {
      "cell_type": "code",
      "execution_count": 1,
      "metadata": {
        "colab": {
          "base_uri": "https://localhost:8080/"
        },
        "id": "necLwQTrHyp4",
        "outputId": "d1de42f8-3caa-46c8-af9c-58b052e9992c"
      },
      "outputs": [
        {
          "output_type": "stream",
          "name": "stdout",
          "text": [
            "Python*is*awesome!!!\n"
          ]
        }
      ],
      "source": [
        "\n",
        "# Print multiple objects with custom separator, end, and flush\n",
        "print(\"Python\", \"is\", \"awesome\", sep=\"*\", end=\"!!!\\n\", flush=True)\n",
        "\n",
        "# Redirect output to a file\n",
        "with open(\"example.txt\", \"w\") as file:\n",
        "    print(\"Hello, File!\", sep=\"-\", end=\"\\n\", file=file)\n"
      ]
    },
    {
      "cell_type": "markdown",
      "source": [
        "**VARIABLES**\n",
        "**Rules**:\n",
        "Must begin with a letter or an underscore (_)\n",
        "\n",
        "*   Can only contain letters, digits, and underscores\n",
        "*   Variable names are case-sensitive.\n",
        "*   Cannot use Python keywords\n",
        "*   Use snake_case for variable names\n",
        "*   Use lowercase for variable names\n",
        "*   Constants are written in uppercase\n",
        "\n",
        "**Data types**\n",
        "\n",
        "A. Numeric Types:\n",
        "\n",
        "A1. Integer: Represents whole numbers.\n",
        "Rules: Immutable, supports mathematical operations.\n",
        "Syntax: x = 10\n",
        "Example: x = 10, y = -25\n",
        "Output: 10\n",
        "\n",
        "A2. Float: Represents numbers with decimals.\n",
        "Rules: Immutable, supports mathematical operations.\n",
        "Syntax: x = 3.14\n",
        "Example: pi = 3.14, scientific = 1.2e3\n",
        "Output: 3.14\n",
        "\n",
        "A3. Complex: Represents numbers with real and imaginary parts.\n",
        "Rules: Immutable, represented in a + bj format.\n",
        "Syntax: z = 2 + 3j\n",
        "Example: z = 2 + 3j, z.real, z.imag, z = complex(5, 6)\n",
        "Output: (2+3j), 2, 3, 5+6j  \n",
        "\n",
        "B. Sequence\n",
        "B1. String: Represents a sequence of characters.\n",
        "Rules: Immutable, enclosed in single or double quotes. Single quotes can be useful when your string contains double quotes without needing to escape them and vice versa.If the string contains single quotes, they need to be escaped (e.g., 'It\\'s fine')\n",
        "Syntax: x = 'text'\n",
        "Example: name = 'Alice', greeting = 'Hello'\n",
        "Output: 'Alice', 'Hello'\n",
        "\n",
        "B2. List: Mutable collection of items.\n",
        "Rules: Mutable, allows duplication and nesting.\n",
        "Syntax: x = [1, 2, 3]\n",
        "Example: fruits = ['apple', 'banana']\n",
        "Output: [1, 2, 3]\n",
        "\n",
        "B3. Tuple: Immutable collection of items.\n",
        "Rules: Immutable, allows duplication and nesting.\n",
        "Syntax: x = (1, 2, 3)\n",
        "Example: coordinates = (10, 20, 30)\n",
        "Output: (10, 20, 30)\n",
        "\n",
        "B4. Range: Represents a sequence of numbers.\n",
        "Rules: Immutable, creates sequences; supports iteration.\n",
        "Syntax: x = range(start, stop, step)\n",
        "Example: numbers = range(5)\n",
        "Output: range(0, 5)\n",
        "\n",
        "C. Mapping\n",
        "Dictionary: Stores key-value pairs.\n",
        "Rules: Mutable, keys must be unique and hashable; values can be any type.\n",
        "Syntax: x = {'key': 'value'}\n",
        "Example: person = {'name': 'Alice', 'age': 25}\n",
        "Output: {'name': 'Alice', 'age': 25}\n",
        "\n",
        "D. Set Types:\n",
        "D1. Set: Unordered collection of unique items.\n",
        "Rules: Mutable, elements must be hashable; allows dynamic updates using methods like add(), remove().\n",
        "Syntax: x = set([elements])\n",
        "Example: colors = set(['red', 'green'])\n",
        "Output: {'red', 'green'}\n",
        "\n",
        "D2. Frozenset: Immutable set of unique items.\n",
        "Rules: Immutable, hashable; used for read-only collections or as dictionary keys.\n",
        "Syntax: x = frozenset([elements])\n",
        "Example: frozen = frozenset([1, 2, 3])\n",
        "Output: frozenset({1, 2, 3})\n",
        "\n",
        "E. Boolean Type:\n",
        "Boolean: Represents True or False values.\n",
        "Rules: Immutable, typically results from comparison operations.\n",
        "Syntax: x = True\n",
        "Example: is_active = True, is_deleted = False\n",
        "Output: True, False\n",
        "\n",
        "F. Binary Types:\n",
        "\n",
        "F1. Bytes: Immutable sequence of bytes.\n",
        "Rules: Immutable, represents binary data.\n",
        "Syntax: x = b'byte_string'\n",
        "Example: b = b'hello'\n",
        "Output: b'hello'\n",
        "\n",
        "F2. Bytearray: Mutable sequence of bytes.\n",
        "Rules: Mutable, used for handling binary data.\n",
        "Syntax: x = bytearray(size)\n",
        "Example: b = bytearray(5)\n",
        "Output: bytearray(b'\\x00\\x00\\x00\\x00\\x00')\n",
        "\n",
        "F3. Memoryview: Allows manipulation of memory buffers.\n",
        "Rules: Immutable or mutable depending on the buffer source. Allows efficient memory operations without copying the data.\n",
        "Syntax: x = memoryview(object)\n",
        "Example: mv = memoryview(b'hello')\n",
        "Output: <memory at 0x7f8911d2ed80>\n",
        "None Type:\n",
        "\n",
        "G. None: Represents the absence of a value or a null value.\n",
        "Rules: Immutable, used to signify 'no value' or 'empty'.\n",
        "Syntax: x = None\n",
        "Example: result = None\n",
        "Output: None"
      ],
      "metadata": {
        "id": "Le9v2uWbLn5T"
      }
    },
    {
      "cell_type": "markdown",
      "source": [
        "**CASTING**"
      ],
      "metadata": {
        "id": "Ge8VXqqNLuGl"
      }
    },
    {
      "cell_type": "markdown",
      "source": [
        "Casting Functions\n",
        "1. int()\n",
        "Explain: Converts a value to an integer. If the value is a floating-point number, it truncates the decimal part.\n",
        "Example:\n",
        "int(4 ** 4.0)\n",
        "Output: 256 (the integer part of 4^4)\n",
        "2. round()\n",
        "Explain: Rounds a floating-point number to a specified number of decimal places.\n",
        "Example:\n",
        "round(14/3, 2)\n",
        "Output: 4.67 (rounds the result of 14/3 to 2 decimal places)\n",
        "3. Decimal()\n",
        "Explain: The Decimal type provides more precision for floating-point arithmetic, avoiding floating-point errors.\n",
        "Example:\n",
        "python\n",
        "Copy code\n",
        "from decimal import Decimal, getcontext\n",
        "getcontext().prec = 4  # Set the precision to 4\n",
        "Decimal(1) / Decimal(3)\n",
        "Output: 0.3333\n",
        "4. int() with base\n",
        "Explain: Converts a string in a given base (e.g., binary, hexadecimal) to an integer.\n",
        "Example:\n",
        "int('100', 2)\n",
        "Output: 4 (binary string '100' is converted to integer 4)\n",
        "5. Floating-point errors\n",
        "Explain: Floating-point operations can result in small inaccuracies due to the way numbers are stored in computers.\n",
        "Example:\n",
        "1.2 - 1.0\n",
        "Output: 0.20000000000000018 (demonstrates floating-point precision error)\n",
        "Boolean Functions\n",
        "1. bool()\n",
        "Explain: Converts a value to a Boolean (True or False). Zero or empty values are considered False, while non-zero or non-empty values are considered True.\n",
        "Example:\n",
        "bool(1)\n",
        "Output: True\n",
        "bool(0)\n",
        "Output: False\n",
        "bool('')\n",
        "Output: False\n",
        "bool('False')\n",
        "Output: True (non-empty strings are True)\n",
        "2. Other expressions evaluating to False\n",
        "Explain: In addition to zero and empty values, certain expressions like empty sets and ranges also evaluate to False.\n",
        "\n",
        "Example:\n",
        "set()\n",
        "Output: False\n",
        "range(0)\n",
        "Output: False\n",
        "\n",
        "python\n",
        "Copy code\n",
        "myList = [1, 2]\n",
        "if bool(myList):\n",
        "    print('Mylist has some values in it!')\n",
        "Output: 'Mylist has some values in it!'\n",
        "\n",
        "Bytes Functions\n",
        "1. bytes()\n",
        "Explain: Creates an immutable byte object. You can create a byte sequence from an integer or from a list of integers.\n",
        "Example:\n",
        "bytes(4)\n",
        "Output: b'\\x00\\x00\\x00\\x00' (a byte object of length 4, initialized to zero)\n",
        "2. bytes() with list of integers\n",
        "Explain: Converts a list of integers (representing ASCII values) to a byte object.\n",
        "Example:\n",
        "bytes([0x41, 0x42, 0x43, 0x44])\n",
        "Output: b'ABCD' (ASCII values of 'A', 'B', 'C', 'D')\n",
        "3. Encoding/Decoding with UTF-8\n",
        "Explain: The bytes() function can encode strings (including emojis) into bytes, and decode() can convert it back to a string.\n",
        "Example:\n",
        "smileyBytes = bytes('🙄', 'utf-8')\n",
        "Output: b'\\xf0\\x9f\\x99\\x84' (byte representation of the emoji)\n",
        "smileyBytes.decode('utf-8')\n",
        "Output: '🙄' (decoded back to the string)\n",
        "4. Modifying bytearray\n",
        "Explain: bytearray is a mutable byte object. You can modify individual bytes in it.\n",
        "Example:\n",
        "python\n",
        "Copy code\n",
        "smileyBytes = bytearray('🙄', 'utf-8')\n",
        "smileyBytes[3] = int('85', 16)  # Modifies byte at index 3 with hexadecimal 85\n",
        "smileyBytes.decode('utf-8')\n",
        "Output: The modified emoji (after changing the byte at index 3)"
      ],
      "metadata": {
        "id": "Ggi23wD5Pi7Z"
      }
    },
    {
      "cell_type": "code",
      "source": [
        "#casting\n",
        "int(4 ** 4.0)  #int() fnc returns only int_part of return value\n",
        "\n",
        "round(14/3, 2)  #round(val,point_to_round)\n",
        "\n",
        "from decimal import Decimal, getcontext\n",
        "int('100', 2)       #used to convert string(1st_para) with explicit base(para2) #op: 4\n",
        "                    #only strings allowed\n",
        "\n",
        "getcontext()  #function\n",
        "getcontext().prec=4   #to_change_precision\n",
        "Decimal(1) / Decimal(3)  #decimal type doesn't give errors like float\n",
        "\n",
        "Decimal(3.14)   #floating_point_errors\n",
        "1.2 - 1.0  #float errors\n"
      ],
      "metadata": {
        "colab": {
          "base_uri": "https://localhost:8080/"
        },
        "id": "fW--iOf0IUBM",
        "outputId": "e1bfe96e-d2dc-4e83-fcc0-8d492a079b82"
      },
      "execution_count": null,
      "outputs": [
        {
          "output_type": "execute_result",
          "data": {
            "text/plain": [
              "0.19999999999999996"
            ]
          },
          "metadata": {},
          "execution_count": 9
        }
      ]
    },
    {
      "cell_type": "code",
      "source": [
        "#Casting Booleans\n",
        "\n",
        "# bool() func\n",
        "bool(1)\n",
        "bool(0)\n",
        "bool(0.0)\n",
        "bool(-1)  #anything except 0 is true for boolean\n",
        "bool(1j)\n",
        "\n",
        "bool('')    #in strings/lists/any other object anything except empty string/../.. is true\n",
        "bool('False')\n",
        "\n",
        "\n",
        "#In addition to zero values, what other Python expressions evaluate to Boolean False?\n",
        "set() and range(0)\n",
        "\n",
        "myList = [1,2]\n",
        "if bool(myList):\n",
        "    print('Mylist has some values in it!')"
      ],
      "metadata": {
        "id": "hKtC9C9aI-UL"
      },
      "execution_count": null,
      "outputs": []
    },
    {
      "cell_type": "code",
      "source": [
        "#Bytes\n",
        "\n",
        "bytes(4)\n",
        "\n",
        "# op: b'\\x00\\x00\\x00\\x00'\n",
        "#b represents its byte object in output\n",
        "#empty byte object which is of length 4\n",
        "#\\x followed by 2 hexadecimal number  represent ascii values\n",
        "\n",
        "\n",
        "#or\n",
        "\n",
        "b = bytes([0x41, 0x42, 0x43, 0x44])\n",
        "\n",
        "smileyBytes = bytes('🙄', 'utf-8')   #emojis is encoded with format utf-8\n",
        "smileyBytes\n",
        "smileyBytes.decode('utf-8')\n",
        "\n",
        "#op:emoji\n",
        "\n",
        "smileyBytes = bytearray('🙄', 'utf-8')\n",
        "smileyBytes[3] = int('85', 16)\n",
        "#modifying\n",
        "#hexadecimal 85 to base 16\n",
        "smileyBytes.decode('utf-8')\n",
        "\n",
        "\n",
        ""
      ],
      "metadata": {
        "colab": {
          "base_uri": "https://localhost:8080/",
          "height": 35
        },
        "id": "hrV9ZudpJGdc",
        "outputId": "77a20288-db5a-4805-c265-b1091079eb34"
      },
      "execution_count": null,
      "outputs": [
        {
          "output_type": "execute_result",
          "data": {
            "text/plain": [
              "'🙅'"
            ],
            "application/vnd.google.colaboratory.intrinsic+json": {
              "type": "string"
            }
          },
          "metadata": {},
          "execution_count": 16
        }
      ]
    },
    {
      "cell_type": "markdown",
      "source": [
        "**STRINGS**\n",
        "\n",
        "\n",
        "*   slicing\n",
        "*   formatting\n",
        "\n",
        "\n",
        "*   multiline string\n",
        "\n",
        "\n",
        "\n",
        "\n"
      ],
      "metadata": {
        "id": "kehOJuryL160"
      }
    },
    {
      "cell_type": "code",
      "source": [
        "#string\n",
        "import math\n",
        "#Slicing\n",
        "# string[a:b]   #1 pos less than b\n",
        "#slicing is same in lists and strings\n",
        "\n",
        "name = 'My name is Ryan Mitchell'\n",
        "name[0]\n",
        "myList = [1,2,3,4,5]\n",
        "\n",
        "#Formatting\n",
        "#f stands for format\n",
        "# syntax: f'   {contain string / expression to evaluate}'\n",
        "#this method is used for precise positional formatting\n",
        "'My number is: '+str(5)\n",
        "#op: 'My number is: 5'\n",
        "\n",
        "f'My number is: {5}'\n",
        "#op: 'My number is: 5'\n",
        "\n",
        "f'My number is: {5} and twice that is {2*5}'\n",
        "#op: 'My number is: 5 and twice that is 10'\n",
        "\n",
        "f'Pi is: {math.pi:.2f}'\n",
        "#.2f means upto 2 decimal points\n",
        "#'op:Pi is: 3.14'\n",
        "\n",
        "'Pi is: {}'.format(math.pi)\n",
        "#op:pi is 3.14......\n",
        "\n",
        "#using templates\n",
        "\n",
        "from string import Template\n",
        "\n",
        "\n",
        "def main():\n",
        "    # Usual string formatting with format()\n",
        "    str1 = \"You're watching {0} by {1}\".format(\"Advanced Python\", \"Joe Marini\")\n",
        "    print(str1)\n",
        "\n",
        "    # create a template with placeholders\n",
        "    templ = Template(\"You're watching ${title} by ${author}\")\n",
        "\n",
        "    # use the substitute method with keyword arguments\n",
        "    str2 = templ.substitute(title=\"Advanced Python\", author=\"Joe Marini\")\n",
        "    print(str2)\n",
        "\n",
        "    # use the substitute method with a dictionary\n",
        "    data = {\n",
        "        \"author\": \"Joe Marini\",\n",
        "        \"title\": \"Advanced Python\"\n",
        "    }\n",
        "    str3 = templ.substitute(data)\n",
        "    print(str3)\n"
      ],
      "metadata": {
        "id": "O0wl_EJFAPb6"
      },
      "execution_count": null,
      "outputs": []
    },
    {
      "cell_type": "code",
      "source": [
        "#Multi-line Strings\n",
        "# '''  ''' for multiline string\n",
        "String1 = '''\n",
        "Here is a long block of text\n",
        "I can add newlines!\n",
        "the text doesn't stop until it sees \\'\\'\\'\n",
        "​\n",
        "'''"
      ],
      "metadata": {
        "id": "JxZ7EUFb00Jq"
      },
      "execution_count": null,
      "outputs": []
    },
    {
      "cell_type": "code",
      "source": [
        "\n",
        "# to work with bytes and strings together\n",
        "# Bytes and strings need to be properly encoded and decoded\n",
        "# before you can work on them together\n",
        "b = bytes([0x41, 0x42, 0x43, 0x44])\n",
        "print(b)\n",
        "\n",
        "s = \"This is a string\"\n",
        "print(s)\n",
        "\n",
        "s2 = b.decode('utf-8')   #byte--to--string\n",
        "print(s+s2)\n",
        "\n",
        "b2 = s.encode('utf-8')   #string--to--byte\n",
        "print(b+b2)\n",
        ""
      ],
      "metadata": {
        "colab": {
          "base_uri": "https://localhost:8080/"
        },
        "id": "3LMsLVaNyUHq",
        "outputId": "1b87fb24-0135-4daf-a964-2f5919b41fe4"
      },
      "execution_count": null,
      "outputs": [
        {
          "output_type": "stream",
          "name": "stdout",
          "text": [
            "b'ABCD'\n",
            "This is a string\n",
            "This is a stringABCD\n",
            "b'ABCDThis is a string'\n"
          ]
        }
      ]
    },
    {
      "cell_type": "markdown",
      "source": [
        "**OPERATORS**\n",
        "\n",
        "\n",
        "*   arithemtic\n",
        "*   comparison\n",
        "*   logical\n",
        "*   membership\n",
        "\n",
        "\n"
      ],
      "metadata": {
        "id": "RM_9DZYDLmTh"
      }
    },
    {
      "cell_type": "code",
      "source": [
        "#operators\n",
        "#Arithmetic Operators\n",
        "\n",
        "  #types:  + , * , ** (pow) , / , %\n",
        "  #example:\n",
        "5 ** 2\n",
        "\n",
        "  #with strings\n",
        "  #concat_operator(+)\n",
        "'string 1 ' + 'string 2'\n",
        "  #replication_operator(*)\n",
        "'- string 1 - ' * 4\n",
        "\n",
        "  #no mixed operations like string with int\n",
        "\n",
        "\n",
        "#Comparison Operators\n",
        "  #returns true/false\n",
        "  # == , < , <= ,> ,>=\n",
        "  #returns true/false\n",
        "True == True\n",
        "4 < 5\n",
        "\n",
        "#Logical Operators (and, or, not)\n",
        "True and True\n",
        "True or False\n",
        "not True\n",
        "\n",
        "\n",
        "#Membership Operators\n",
        "# in , not in\n",
        "\n",
        "1 in [1,2,3,4,5]"
      ],
      "metadata": {
        "id": "u7oESu4XL8rg"
      },
      "execution_count": null,
      "outputs": []
    },
    {
      "cell_type": "code",
      "source": [
        "#loops/control flow\n",
        "#If / Else statements\n",
        "for n in range(1, 101):\n",
        "    if n % 15 == 0:\n",
        "        print('FizzBuzz')\n",
        "    elif n % 3 == 0:\n",
        "        print('Fizz')\n",
        "    elif n % 5 == 0:\n",
        "        print('Buzz')\n",
        "    else:\n",
        "        print(n)\n",
        "\n",
        "        #or\n",
        "#Single Line if statements\n",
        "n = 5\n",
        "print('Fizz' if n % 3 == 0 else n\n",
        "['FizzBuzz' if n % 15 == 0 else 'Fizz' if n % 3 == 0 else 'Buzz' if n % 5 == 0 else n for n in range(1, 101)]\n",
        "\n",
        "#For loops\n",
        "#for var in list/.....\n",
        "a = [1,2,3,4,5]\n",
        "for number in a:   #or for I in range(,)\n",
        "    print(number)\n",
        "\n",
        "#While loops\n",
        "a = 0\n",
        "while a < 5:\n",
        "    print(a)\n",
        "    a = a + 1\n",
        "\n",
        "\n",
        "#control statments in loops\n",
        "#pass  :skips entire loop  (empty control statement)\n",
        "#break: breaks out of first loop it encounters\n",
        "#continue  #skips any code inside loop after it (Used when required to skip execution of statements for certain condition)"
      ],
      "metadata": {
        "id": "ZjBzj1RhMHcw"
      },
      "execution_count": null,
      "outputs": []
    },
    {
      "cell_type": "code",
      "source": [],
      "metadata": {
        "id": "P30xptTqUUKa"
      },
      "execution_count": null,
      "outputs": []
    },
    {
      "cell_type": "markdown",
      "source": [
        "VARIABLES\n",
        "\n",
        "\n",
        "\n",
        "CASTING\n",
        "STRINGS\n",
        "OPERATORS\n",
        "CONTROL FLOW\n"
      ],
      "metadata": {
        "id": "YaBvTyJtUTe8"
      }
    },
    {
      "cell_type": "code",
      "source": [],
      "metadata": {
        "id": "y-wV-QXmIpPv"
      },
      "execution_count": null,
      "outputs": []
    }
  ]
}